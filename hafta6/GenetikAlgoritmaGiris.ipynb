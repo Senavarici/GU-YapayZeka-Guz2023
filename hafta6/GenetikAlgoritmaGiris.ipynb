{
 "cells": [
  {
   "cell_type": "markdown",
   "id": "748601c4",
   "metadata": {},
   "source": [
    "# Genetik Algoritma Hatirlatma"
   ]
  },
  {
   "cell_type": "code",
   "execution_count": 10,
   "id": "31fcd49c",
   "metadata": {},
   "outputs": [],
   "source": [
    "from tqdm import tqdm"
   ]
  },
  {
   "cell_type": "markdown",
   "id": "d8b54a92",
   "metadata": {},
   "source": [
    "## 8 Vezir Problemi icin Genetik Algoritma ile Cozumu"
   ]
  },
  {
   "cell_type": "code",
   "execution_count": null,
   "id": "51a98f78",
   "metadata": {},
   "outputs": [],
   "source": [
    "# TODO Implement the 8 Queens problem"
   ]
  },
  {
   "cell_type": "code",
   "execution_count": 8,
   "id": "09f24e3e",
   "metadata": {},
   "outputs": [],
   "source": [
    "import random\n",
    "\n",
    "# Genetic Algorithm Parameters\n",
    "population_size = 50\n",
    "chromosome_length = 8\n",
    "mutation_rate = 0.01\n",
    "generations = 100\n",
    "\n",
    "MAX_SCORE = 8\n",
    "\n",
    "def fitness(chromosome):\n",
    "    # Derste implement edelim\n",
    "    # TODO: Implement me\n",
    "    return chromosome.count('1')\n",
    "\n",
    "def select_parents(population):\n",
    "    # Select two parents based on their fitness\n",
    "    # ref: https://docs.python.org/3/library/random.html#random.choices \n",
    "    return random.choices(population, weights=[fitness(chromosome) for chromosome in population], k=2)\n",
    "\n",
    "def crossover(parent1, parent2):\n",
    "    # Perform one-point crossover to create a child\n",
    "    crossover_point = random.randint(1, chromosome_length - 1)\n",
    "    child = parent1[:crossover_point] + parent2[crossover_point:]\n",
    "    return child\n",
    "\n",
    "def mutate(child):\n",
    "    # Mutate the child with a certain probability\n",
    "    mutated_child = list(child)\n",
    "    for i in range(chromosome_length):\n",
    "        if random.random() < mutation_rate:\n",
    "            mutated_child[i] = '1' if child[i] == '0' else '0'\n",
    "    return ''.join(mutated_child)\n",
    "\n",
    "def get_best_solution(population):\n",
    "    best_solution = max(population, key=fitness)\n",
    "    return best_solution, fitness(best_solution)\n",
    "\n",
    "\n",
    "# Main Genetic Algorithm loop\n",
    "def run(): \n",
    "    # Create an initial population\n",
    "    population = [''.join(random.choice('12345678') for _ in range(chromosome_length)) for _ in range(population_size)]\n",
    "    for generation in tqdm(range(generations)):\n",
    "        # Evaluate the fitness of each chromosome in the population\n",
    "        fitness_scores = [fitness(chromosome) for chromosome in population]\n",
    "\n",
    "        # Select and create a new population\n",
    "        new_population = []\n",
    "        for _ in range(population_size // 2):\n",
    "            parent1, parent2 = select_parents(population)\n",
    "            child1 = crossover(parent1, parent2)\n",
    "            child1 = mutate(child1)\n",
    "            child2 = crossover(parent2, parent1)\n",
    "            child2 = mutate(child2)\n",
    "            new_population.extend([child1, child2])\n",
    "\n",
    "        # Replace the old population with the new population\n",
    "        population = new_population\n",
    "        current_best_solution, current_best_score = get_best_solution(population)\n",
    "        print(f\"Best solution at generation {generation}: {current_best_solution}, score: {current_best_score}\")\n",
    "        \n",
    "        if current_best_score >= MAX_SCORE:\n",
    "            break\n",
    "\n",
    "    # Find the best solution in the final population\n",
    "    best_solution, best_score = get_best_solution(population)\n",
    "    print(\"Best solution:\", best_solution)\n",
    "    print(\"Fitness:\", fitness(best_solution))\n"
   ]
  },
  {
   "cell_type": "code",
   "execution_count": 9,
   "id": "bb3bcaeb",
   "metadata": {},
   "outputs": [
    {
     "name": "stderr",
     "output_type": "stream",
     "text": [
      " 11%|██████████████████▏                                                                                                                                                  | 11/100 [00:00<00:00, 1589.85it/s]"
     ]
    },
    {
     "name": "stdout",
     "output_type": "stream",
     "text": [
      "Best solution at generation 0: 81111731, score: 5\n",
      "Best solution at generation 1: 81111517, score: 5\n",
      "Best solution at generation 2: 81111511, score: 6\n",
      "Best solution at generation 3: 21511511, score: 5\n",
      "Best solution at generation 4: 81511171, score: 5\n",
      "Best solution at generation 5: 11111524, score: 5\n",
      "Best solution at generation 6: 01511111, score: 6\n",
      "Best solution at generation 7: 11111178, score: 6\n",
      "Best solution at generation 8: 11111121, score: 7\n",
      "Best solution at generation 9: 11111131, score: 7\n",
      "Best solution at generation 10: 11111117, score: 7\n",
      "Best solution at generation 11: 11111111, score: 8\n",
      "Best solution: 11111111\n",
      "Fitness: 8\n"
     ]
    },
    {
     "name": "stderr",
     "output_type": "stream",
     "text": [
      "\n"
     ]
    }
   ],
   "source": [
    "run()"
   ]
  },
  {
   "cell_type": "code",
   "execution_count": null,
   "id": "a968a9ea",
   "metadata": {},
   "outputs": [],
   "source": []
  }
 ],
 "metadata": {
  "kernelspec": {
   "display_name": "venv",
   "language": "python",
   "name": "venv"
  },
  "language_info": {
   "codemirror_mode": {
    "name": "ipython",
    "version": 3
   },
   "file_extension": ".py",
   "mimetype": "text/x-python",
   "name": "python",
   "nbconvert_exporter": "python",
   "pygments_lexer": "ipython3",
   "version": "3.11.6"
  }
 },
 "nbformat": 4,
 "nbformat_minor": 5
}
